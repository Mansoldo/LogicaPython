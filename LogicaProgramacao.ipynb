{
  "nbformat": 4,
  "nbformat_minor": 0,
  "metadata": {
    "colab": {
      "name": "LogicaProgramacao.ipynb",
      "provenance": [],
      "collapsed_sections": [
        "CyeRUjWoHgx_",
        "WW_HFxUVSgyC",
        "FOoPi0mfS26v",
        "dl7MwqzcQLaY",
        "OO2O158PxHzL",
        "GqkeJNyv6PlP",
        "s0zFOcSB763N"
      ],
      "authorship_tag": "ABX9TyNWslX4Ik/UiEsa0hBw6PF6",
      "include_colab_link": true
    },
    "kernelspec": {
      "name": "python3",
      "display_name": "Python 3"
    }
  },
  "cells": [
    {
      "cell_type": "markdown",
      "metadata": {
        "id": "view-in-github",
        "colab_type": "text"
      },
      "source": [
        "<a href=\"https://colab.research.google.com/github/Mansoldo/LogicaPython/blob/master/LogicaProgramacao.ipynb\" target=\"_parent\"><img src=\"https://colab.research.google.com/assets/colab-badge.svg\" alt=\"Open In Colab\"/></a>"
      ]
    },
    {
      "cell_type": "markdown",
      "metadata": {
        "id": "CyeRUjWoHgx_",
        "colab_type": "text"
      },
      "source": [
        "### Python para Data Science"
      ]
    },
    {
      "cell_type": "code",
      "metadata": {
        "id": "Of3q_G33HoQR",
        "colab_type": "code",
        "colab": {
          "base_uri": "https://localhost:8080/",
          "height": 34
        },
        "outputId": "09db9032-23c1-4497-d948-a220e896bc21"
      },
      "source": [
        "nome = 'Diego'\n",
        "idade = 31\n",
        "\n",
        "print(f'Meu nome é {nome} e tenho {idade} anos')\n"
      ],
      "execution_count": null,
      "outputs": [
        {
          "output_type": "stream",
          "text": [
            "Meu nome é Diego e tenho 31 anos\n"
          ],
          "name": "stdout"
        }
      ]
    },
    {
      "cell_type": "markdown",
      "metadata": {
        "id": "i7ww-Pi9LvHu",
        "colab_type": "text"
      },
      "source": [
        "Criando minha primeira função"
      ]
    },
    {
      "cell_type": "code",
      "metadata": {
        "id": "Cgb8FvRzL0Sb",
        "colab_type": "code",
        "colab": {}
      },
      "source": [
        "def saudacao():\n",
        "  nome = input('Qual o seu nome? ')\n",
        "  print(f'Olá {nome}, tudo bom?')    "
      ],
      "execution_count": null,
      "outputs": []
    },
    {
      "cell_type": "code",
      "metadata": {
        "id": "7Npoi4AgMUP5",
        "colab_type": "code",
        "colab": {
          "base_uri": "https://localhost:8080/",
          "height": 51
        },
        "outputId": "af4b04ea-8e91-4b80-b919-efacfc62fc3a"
      },
      "source": [
        "saudacao()"
      ],
      "execution_count": null,
      "outputs": [
        {
          "output_type": "stream",
          "text": [
            "Qual o seu nome? Diego\n",
            "Olá Diego, tudo bom?\n"
          ],
          "name": "stdout"
        }
      ]
    },
    {
      "cell_type": "code",
      "metadata": {
        "id": "VeKy-5j7NuXB",
        "colab_type": "code",
        "colab": {}
      },
      "source": [
        "def nome_completo():\n",
        "  primeiro_nome = input('Qual seu primeiro nome? ')\n",
        "  sobrenome = input('Qual seu sobrenome? ')\n",
        "  nome_inteiro = primeiro_nome + ' ' + sobrenome\n",
        "  print(nome_inteiro)  "
      ],
      "execution_count": null,
      "outputs": []
    },
    {
      "cell_type": "code",
      "metadata": {
        "id": "tKpYd408OBMy",
        "colab_type": "code",
        "colab": {
          "base_uri": "https://localhost:8080/",
          "height": 68
        },
        "outputId": "b196f885-1683-44a6-a1be-598f38887faf"
      },
      "source": [
        "nome_completo() "
      ],
      "execution_count": null,
      "outputs": [
        {
          "output_type": "stream",
          "text": [
            "Qual seu primeiro nome? Diego\n",
            "Qual seu sobrenome? Mansoldo\n",
            "Diego Mansoldo\n"
          ],
          "name": "stdout"
        }
      ]
    },
    {
      "cell_type": "markdown",
      "metadata": {
        "id": "WW_HFxUVSgyC",
        "colab_type": "text"
      },
      "source": [
        "### Parâmetros"
      ]
    },
    {
      "cell_type": "code",
      "metadata": {
        "id": "kRh0yhl_SI8M",
        "colab_type": "code",
        "colab": {}
      },
      "source": [
        "nome = 'Diego'"
      ],
      "execution_count": null,
      "outputs": []
    },
    {
      "cell_type": "code",
      "metadata": {
        "id": "a8aZ2zcQSPvP",
        "colab_type": "code",
        "colab": {}
      },
      "source": [
        "def saudacao_com_parametro(nome_da_pessoa):\n",
        "  print(f'Olá, {nome_da_pessoa}')"
      ],
      "execution_count": null,
      "outputs": []
    },
    {
      "cell_type": "code",
      "metadata": {
        "id": "3pqfa2JwSaAL",
        "colab_type": "code",
        "colab": {
          "base_uri": "https://localhost:8080/",
          "height": 34
        },
        "outputId": "50c54519-907e-4b86-e039-f25fa55efafb"
      },
      "source": [
        "saudacao_com_parametro(nome)"
      ],
      "execution_count": null,
      "outputs": [
        {
          "output_type": "stream",
          "text": [
            "Olá, Diego\n"
          ],
          "name": "stdout"
        }
      ]
    },
    {
      "cell_type": "markdown",
      "metadata": {
        "id": "FOoPi0mfS26v",
        "colab_type": "text"
      },
      "source": [
        "### Condicional\n"
      ]
    },
    {
      "cell_type": "code",
      "metadata": {
        "id": "imp46KdAT8Fk",
        "colab_type": "code",
        "colab": {
          "base_uri": "https://localhost:8080/",
          "height": 34
        },
        "outputId": "e5cf1c45-6adf-4ce5-9e88-45f965211303"
      },
      "source": [
        "idade = 10\n",
        "\n",
        "def verifica_se_pode_dirigir(idade):\n",
        "  if idade >= 18:\n",
        "    print('Tem permissão para dirigir')\n",
        "  else:\n",
        "    print('Não tem permissão para dirigir')\n",
        "\n",
        "verifica_se_pode_dirigir(idade)    "
      ],
      "execution_count": null,
      "outputs": [
        {
          "output_type": "stream",
          "text": [
            "Não tem permissão para dirigir\n"
          ],
          "name": "stdout"
        }
      ]
    },
    {
      "cell_type": "markdown",
      "metadata": {
        "id": "TPL49Gj5_WzK",
        "colab_type": "text"
      },
      "source": [
        "Convertendo tipo para inteiro"
      ]
    },
    {
      "cell_type": "code",
      "metadata": {
        "id": "ppwVh3j5UKqI",
        "colab_type": "code",
        "colab": {
          "base_uri": "https://localhost:8080/",
          "height": 51
        },
        "outputId": "34228dce-88bf-413b-f917-75acbcd46a6d"
      },
      "source": [
        "def verifica_se_pode_dirigir_sem_parametro():\n",
        "  idade = input('Qual sua idade? ')\n",
        "  idade = int(idade)\n",
        "  if idade >= 18:\n",
        "    print('Tem permissão para dirigir')\n",
        "  else:\n",
        "    print('Não tem permissão para dirigir')\n",
        "\n",
        "verifica_se_pode_dirigir_sem_parametro()    "
      ],
      "execution_count": null,
      "outputs": [
        {
          "output_type": "stream",
          "text": [
            "Qual sua idade? 20\n",
            "Tem permissão para dirigir\n"
          ],
          "name": "stdout"
        }
      ]
    },
    {
      "cell_type": "markdown",
      "metadata": {
        "id": "dl7MwqzcQLaY",
        "colab_type": "text"
      },
      "source": [
        "## Listas"
      ]
    },
    {
      "cell_type": "code",
      "metadata": {
        "id": "lSxi74Pgvvtz",
        "colab_type": "code",
        "colab": {
          "base_uri": "https://localhost:8080/",
          "height": 0
        },
        "outputId": "157c027f-16d9-4987-8824-7a7895b7f1d3"
      },
      "source": [
        "idades = [18, 22, 15, 50]\n",
        "# Índice  0   1   2   3\n",
        "#         0  -3 -2 -1\n",
        "type(idades)"
      ],
      "execution_count": 8,
      "outputs": [
        {
          "output_type": "execute_result",
          "data": {
            "text/plain": [
              "list"
            ]
          },
          "metadata": {
            "tags": []
          },
          "execution_count": 8
        }
      ]
    },
    {
      "cell_type": "code",
      "metadata": {
        "id": "l4EDQ1ihwIIt",
        "colab_type": "code",
        "colab": {
          "base_uri": "https://localhost:8080/",
          "height": 0
        },
        "outputId": "424a9a7c-55bb-4eaa-ab30-a961b0bd8ac1"
      },
      "source": [
        "idades[1:]\n"
      ],
      "execution_count": 9,
      "outputs": [
        {
          "output_type": "execute_result",
          "data": {
            "text/plain": [
              "[22, 15, 50]"
            ]
          },
          "metadata": {
            "tags": []
          },
          "execution_count": 9
        }
      ]
    },
    {
      "cell_type": "code",
      "metadata": {
        "id": "FqSoJEEtxDAx",
        "colab_type": "code",
        "colab": {
          "base_uri": "https://localhost:8080/",
          "height": 0
        },
        "outputId": "35ac8cc9-6b2e-483c-8fe6-3532f91ec9c7"
      },
      "source": [
        "idades"
      ],
      "execution_count": 10,
      "outputs": [
        {
          "output_type": "execute_result",
          "data": {
            "text/plain": [
              "[18, 22, 15, 50]"
            ]
          },
          "metadata": {
            "tags": []
          },
          "execution_count": 10
        }
      ]
    },
    {
      "cell_type": "markdown",
      "metadata": {
        "id": "OO2O158PxHzL",
        "colab_type": "text"
      },
      "source": [
        "## Laços e Loops"
      ]
    },
    {
      "cell_type": "code",
      "metadata": {
        "id": "3kLVeo8IxFE_",
        "colab_type": "code",
        "colab": {
          "base_uri": "https://localhost:8080/",
          "height": 0
        },
        "outputId": "5b4c483f-3656-46ea-b18e-7d94f0224d19"
      },
      "source": [
        "# For fora da função\n",
        "def verifica_se_pode_dirigir(idade):\n",
        "  if idade >= 18:\n",
        "    print(f'{idade} anos de idade, TEM permissão para dirigir')\n",
        "  else:\n",
        "    print(f'{idade} anos de idade, NÃO tem permissão para dirigir')\n",
        "\n",
        "#Para cada idade em nossa lista\n",
        "\n",
        "for idade in idades:\n",
        "  verifica_se_pode_dirigir(idade)\n"
      ],
      "execution_count": 11,
      "outputs": [
        {
          "output_type": "stream",
          "text": [
            "18 anos de idade, TEM permissão para dirigir\n",
            "22 anos de idade, TEM permissão para dirigir\n",
            "15 anos de idade, NÃO tem permissão para dirigir\n",
            "50 anos de idade, TEM permissão para dirigir\n"
          ],
          "name": "stdout"
        }
      ]
    },
    {
      "cell_type": "code",
      "metadata": {
        "id": "wWLl7atgx7fA",
        "colab_type": "code",
        "colab": {
          "base_uri": "https://localhost:8080/",
          "height": 85
        },
        "outputId": "21784482-4e3c-46d1-93c5-f7270a4c9cfe"
      },
      "source": [
        "#For dentro da função\n",
        "def verifica_se_pode_dirigir(idades):\n",
        "  for idade in idades:\n",
        "      if idade >= 18:\n",
        "        print(f'{idade} anos de idade, TEM permissão para dirigir')\n",
        "      else:\n",
        "        print(f'{idade} anos de idade, NÃO tem permissão para dirigir')\n",
        "\n",
        "verifica_se_pode_dirigir(idades)        "
      ],
      "execution_count": 12,
      "outputs": [
        {
          "output_type": "stream",
          "text": [
            "18 anos de idade, TEM permissão para dirigir\n",
            "22 anos de idade, TEM permissão para dirigir\n",
            "15 anos de idade, NÃO tem permissão para dirigir\n",
            "50 anos de idade, TEM permissão para dirigir\n"
          ],
          "name": "stdout"
        }
      ]
    },
    {
      "cell_type": "code",
      "metadata": {
        "id": "IIp3-GlwycuS",
        "colab_type": "code",
        "colab": {}
      },
      "source": [
        "permissoes = []\n",
        "idades = [20, 14, 40]\n",
        "\n",
        "def verifica_se_pode_dirigir(idades, permissoes):\n",
        "  for idade in idades:\n",
        "    if idade >= 18:\n",
        "      permissoes.append(True)\n",
        "    else:\n",
        "      permissoes.append(False)\n",
        "\n",
        "verifica_se_pode_dirigir(idades, permissoes)\n"
      ],
      "execution_count": 23,
      "outputs": []
    },
    {
      "cell_type": "code",
      "metadata": {
        "id": "cSXYDnjfzz33",
        "colab_type": "code",
        "colab": {
          "base_uri": "https://localhost:8080/",
          "height": 34
        },
        "outputId": "87a91762-73ce-477e-c483-ff3e3018a1d2"
      },
      "source": [
        "permissoes"
      ],
      "execution_count": 24,
      "outputs": [
        {
          "output_type": "execute_result",
          "data": {
            "text/plain": [
              "[True, False, True]"
            ]
          },
          "metadata": {
            "tags": []
          },
          "execution_count": 24
        }
      ]
    },
    {
      "cell_type": "code",
      "metadata": {
        "id": "gtsfXtLk0R1M",
        "colab_type": "code",
        "colab": {
          "base_uri": "https://localhost:8080/",
          "height": 68
        },
        "outputId": "a58f92dc-2b6f-4f87-f2a9-6b286a82d886"
      },
      "source": [
        "for permissao in permissoes:\n",
        "  if permissao == True:\n",
        "    print('Tem permissão para dirigir')\n",
        "  else:\n",
        "    print('Não tem permissão para dirigir')"
      ],
      "execution_count": 25,
      "outputs": [
        {
          "output_type": "stream",
          "text": [
            "Tem permissão para dirigir\n",
            "Não tem permissão para dirigir\n",
            "Tem permissão para dirigir\n"
          ],
          "name": "stdout"
        }
      ]
    },
    {
      "cell_type": "markdown",
      "metadata": {
        "id": "GqkeJNyv6PlP",
        "colab_type": "text"
      },
      "source": [
        "## Tipos de uma Lista\n"
      ]
    },
    {
      "cell_type": "code",
      "metadata": {
        "id": "Pf7lSJqq6WdR",
        "colab_type": "code",
        "colab": {
          "base_uri": "https://localhost:8080/",
          "height": 85
        },
        "outputId": "c7e23c2c-ca85-418b-f92c-e669ec26b015"
      },
      "source": [
        "lista = ['Diego', 31, True, '18']\n",
        "\n",
        "for elemento in lista:\n",
        "  print(f'O elemento {elemento} é do tipo: ', type(elemento))"
      ],
      "execution_count": 26,
      "outputs": [
        {
          "output_type": "stream",
          "text": [
            "O elemento Diego é do tipo:  <class 'str'>\n",
            "O elemento 31 é do tipo:  <class 'int'>\n",
            "O elemento True é do tipo:  <class 'bool'>\n",
            "O elemento 18 é do tipo:  <class 'str'>\n"
          ],
          "name": "stdout"
        }
      ]
    },
    {
      "cell_type": "markdown",
      "metadata": {
        "id": "s0zFOcSB763N",
        "colab_type": "text"
      },
      "source": [
        "## Imports"
      ]
    },
    {
      "cell_type": "code",
      "metadata": {
        "id": "ic9cJHOg6w6A",
        "colab_type": "code",
        "colab": {
          "base_uri": "https://localhost:8080/",
          "height": 34
        },
        "outputId": "0d8d6c58-4ed0-4b36-ae4a-1d85584c35f2"
      },
      "source": [
        "from random import randrange, seed\n",
        "type(randrange)\n",
        "type(seed)"
      ],
      "execution_count": 46,
      "outputs": [
        {
          "output_type": "execute_result",
          "data": {
            "text/plain": [
              "method"
            ]
          },
          "metadata": {
            "tags": []
          },
          "execution_count": 46
        }
      ]
    },
    {
      "cell_type": "code",
      "metadata": {
        "id": "s0gv61MaJ1OG",
        "colab_type": "code",
        "colab": {}
      },
      "source": [
        "seed(11)"
      ],
      "execution_count": 50,
      "outputs": []
    },
    {
      "cell_type": "code",
      "metadata": {
        "id": "H0e_WskVJFe1",
        "colab_type": "code",
        "colab": {
          "base_uri": "https://localhost:8080/",
          "height": 34
        },
        "outputId": "8722b0e4-e8fe-43f3-b559-4626b8e74b2d"
      },
      "source": [
        "randrange(0,11)"
      ],
      "execution_count": 51,
      "outputs": [
        {
          "output_type": "execute_result",
          "data": {
            "text/plain": [
              "7"
            ]
          },
          "metadata": {
            "tags": []
          },
          "execution_count": 51
        }
      ]
    },
    {
      "cell_type": "code",
      "metadata": {
        "id": "L1Gcfqo1JVY9",
        "colab_type": "code",
        "colab": {
          "base_uri": "https://localhost:8080/",
          "height": 34
        },
        "outputId": "9606b1fe-909a-4b2b-97be-d2954eb05081"
      },
      "source": [
        "notas_matematica = []\n",
        "\n",
        "for notas in range(8):  \n",
        "  notas_matematica.append(randrange(0,11))\n",
        "\n",
        "notas_matematica"
      ],
      "execution_count": 52,
      "outputs": [
        {
          "output_type": "execute_result",
          "data": {
            "text/plain": [
              "[8, 7, 7, 8, 9, 3, 2, 8]"
            ]
          },
          "metadata": {
            "tags": []
          },
          "execution_count": 52
        }
      ]
    },
    {
      "cell_type": "code",
      "metadata": {
        "id": "Xbb_syLpJnzK",
        "colab_type": "code",
        "colab": {
          "base_uri": "https://localhost:8080/",
          "height": 34
        },
        "outputId": "b044d132-e3a4-4545-d753-ba125e222cf9"
      },
      "source": [
        "len(notas_matematica)"
      ],
      "execution_count": 44,
      "outputs": [
        {
          "output_type": "execute_result",
          "data": {
            "text/plain": [
              "8"
            ]
          },
          "metadata": {
            "tags": []
          },
          "execution_count": 44
        }
      ]
    }
  ]
}